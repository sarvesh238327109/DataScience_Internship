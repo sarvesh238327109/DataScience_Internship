{
  "nbformat": 4,
  "nbformat_minor": 0,
  "metadata": {
    "colab": {
      "provenance": [],
      "authorship_tag": "ABX9TyPMuQ/cTtgVvEJ/7jzUZsEv",
      "include_colab_link": true
    },
    "kernelspec": {
      "name": "python3",
      "display_name": "Python 3"
    },
    "language_info": {
      "name": "python"
    }
  },
  "cells": [
    {
      "cell_type": "markdown",
      "metadata": {
        "id": "view-in-github",
        "colab_type": "text"
      },
      "source": [
        "<a href=\"https://colab.research.google.com/github/sarvesh238327109/DataScience_Internship/blob/main/data_engineering.ipynb\" target=\"_parent\"><img src=\"https://colab.research.google.com/assets/colab-badge.svg\" alt=\"Open In Colab\"/></a>"
      ]
    },
    {
      "cell_type": "code",
      "execution_count": null,
      "metadata": {
        "colab": {
          "base_uri": "https://localhost:8080/"
        },
        "id": "K_JDkOlxP2Hq",
        "outputId": "ea4a107a-83f3-4343-e093-2926886e48ac"
      },
      "outputs": [
        {
          "output_type": "stream",
          "name": "stdout",
          "text": [
            "     SepalLengthCm  SepalWidthCm  PetalLengthCm  PetalWidthCm\n",
            "0              5.1           3.5            1.4           0.2\n",
            "1              4.9           3.0            1.4           0.2\n",
            "2              4.7           3.2            1.3           0.2\n",
            "3              4.6           3.1            1.5           0.2\n",
            "4              5.0           3.6            1.4           0.2\n",
            "..             ...           ...            ...           ...\n",
            "145            6.7           3.0            5.2           2.3\n",
            "146            6.3           2.5            5.0           1.9\n",
            "147            6.5           3.0            5.2           2.0\n",
            "148            6.2           3.4            5.4           2.3\n",
            "149            5.9           3.0            5.1           1.8\n",
            "\n",
            "[150 rows x 4 columns]\n",
            "0         Iris-setosa\n",
            "1         Iris-setosa\n",
            "2         Iris-setosa\n",
            "3         Iris-setosa\n",
            "4         Iris-setosa\n",
            "            ...      \n",
            "145    Iris-virginica\n",
            "146    Iris-virginica\n",
            "147    Iris-virginica\n",
            "148    Iris-virginica\n",
            "149    Iris-virginica\n",
            "Name: Species, Length: 150, dtype: object\n"
          ]
        }
      ],
      "source": [
        "import pandas as pd              #pd is an Alias\n",
        "\n",
        "#Dealing with Missing Values\n",
        "#Dealing with outliers\n",
        "#Converting into categorical or numerical\n",
        "#Dealing with Imbalance\n",
        "#Feature selection\n",
        "#Dimentionality Reduction\n",
        "\n",
        "df=pd.read_csv(\"/content/Iris.csv\")\n",
        "\n",
        "#Preparing X and Y\n",
        "\n",
        "X = df.drop('Id', axis=1)\n",
        "X = X.drop('Species', axis=1)\n",
        "Y = df['Species']\n",
        "print(X)\n",
        "print(Y)"
      ]
    },
    {
      "cell_type": "code",
      "source": [
        "from sklearn.feature_selection import SelectKBest\n",
        "from sklearn.feature_selection import chi2\n",
        "\n",
        "bestfeatures = SelectKBest(score_func=chi2, k='all')\n",
        "fit = bestfeatures.fit(X,Y)\n",
        "dfscores = pd.DataFrame(fit.scores_)\n",
        "dfcolumns = pd.DataFrame(X.columns)\n",
        "featuresScores = pd.concat([dfcolumns, dfscores], axis=1)\n",
        "featuresScores.columns = ['Specs', 'Score']\n",
        "\n",
        "print(featuresScores)"
      ],
      "metadata": {
        "colab": {
          "base_uri": "https://localhost:8080/"
        },
        "id": "CWs79nFrRRI6",
        "outputId": "61af3dc1-aa0f-4952-fb3b-bcdcdbd98b45"
      },
      "execution_count": null,
      "outputs": [
        {
          "output_type": "stream",
          "name": "stdout",
          "text": [
            "           Specs       Score\n",
            "0  SepalLengthCm   10.817821\n",
            "1   SepalWidthCm    3.594499\n",
            "2  PetalLengthCm  116.169847\n",
            "3   PetalWidthCm   67.244828\n"
          ]
        }
      ]
    },
    {
      "cell_type": "code",
      "source": [
        "#Feature Selection 2\n",
        "\n",
        "from sklearn.ensemble import ExtraTreesClassifier\n",
        "import matplotlib.pyplot as plt\n",
        "\n",
        "model = ExtraTreesClassifier()\n",
        "model.fit(X,Y)\n",
        "print(model.feature_importances_)\n",
        "\n",
        "feat_importance = pd.Series(model.feature_importances_, index=X.columns)\n",
        "feat_importance.nlargest(4).plot(kind='barh')\n",
        "plt.show()"
      ],
      "metadata": {
        "colab": {
          "base_uri": "https://localhost:8080/",
          "height": 448
        },
        "id": "AGlSu6LSRYzi",
        "outputId": "7b0f0fdc-5ade-4b24-a19f-e6c800570904"
      },
      "execution_count": null,
      "outputs": [
        {
          "output_type": "stream",
          "name": "stdout",
          "text": [
            "[0.09551865 0.04923116 0.39670159 0.45854859]\n"
          ]
        },
        {
          "output_type": "display_data",
          "data": {
            "text/plain": [
              "<Figure size 640x480 with 1 Axes>"
            ],
            "image/png": "[encoded data removed]"
          },
          "metadata": {}
        }
      ]
    },
    {
      "cell_type": "code",
      "source": [
        "#Numerical to Categorical\n",
        "\n",
        "from sklearn.preprocessing import LabelEncoder\n",
        "\n",
        "# Reload the DataFrame to reset the column types\n",
        "df=pd.read_csv(\"/content/Iris.csv\")\n",
        "\n",
        "df['SepalLengthCm']=pd.cut(df['SepalLengthCm'],3,labels=['0','1','2'])\n",
        "df['SepalWidthCm']=pd.cut(df['SepalWidthCm'],3,labels=['0','1','2'])\n",
        "df['PetalLengthCm']=pd.cut(df['PetalLengthCm'],3,labels=['0','1','2'])\n",
        "df['PetalWidthCm']=pd.cut(df['PetalWidthCm'],3,labels=['0','1','2'])\n",
        "\n",
        "print(df)"
      ],
      "metadata": {
        "colab": {
          "base_uri": "https://localhost:8080/"
        },
        "id": "x4joHsM5Rehb",
        "outputId": "857d869c-daa2-48bc-9d15-aaa8399a2865"
      },
      "execution_count": null,
      "outputs": [
        {
          "output_type": "stream",
          "name": "stdout",
          "text": [
            "      Id SepalLengthCm SepalWidthCm PetalLengthCm PetalWidthCm         Species\n",
            "0      1             0            1             0            0     Iris-setosa\n",
            "1      2             0            1             0            0     Iris-setosa\n",
            "2      3             0            1             0            0     Iris-setosa\n",
            "3      4             0            1             0            0     Iris-setosa\n",
            "4      5             0            1             0            0     Iris-setosa\n",
            "..   ...           ...          ...           ...          ...             ...\n",
            "145  146             1            1             2            2  Iris-virginica\n",
            "146  147             1            0             2            2  Iris-virginica\n",
            "147  148             1            1             2            2  Iris-virginica\n",
            "148  149             1            1             2            2  Iris-virginica\n",
            "149  150             1            1             2            2  Iris-virginica\n",
            "\n",
            "[150 rows x 6 columns]\n"
          ]
        }
      ]
    },
    {
      "cell_type": "code",
      "source": [
        "#Categorical to Numerical\n",
        "\n",
        "le=LabelEncoder()\n",
        "le.fit(Y)\n",
        "Y = le.transform(Y)\n"
      ],
      "metadata": {
        "id": "hv5UufhkSAGJ"
      },
      "execution_count": null,
      "outputs": []
    },
    {
      "cell_type": "code",
      "source": [
        "#Dealing with missing values\n",
        "\n",
        "'''\n",
        "1. Use Drop (df.drop())\n",
        "2. use Replace (df.replace(\"back\",\"DOS\"))\n",
        "3. Fill NA ()\n",
        "'''\n",
        "\n",
        "# Load your DataFrame here\n",
        "import pandas as pd\n",
        "df = pd.read_csv(\"/content/Iris.csv\") # Replace '/content/Iris.csv' with your file path\n",
        "\n",
        "# Check the column names in your DataFrame\n",
        "print(df.columns)\n",
        "\n",
        "# Assuming 'SepalLengthCm' is the column you want to impute\n",
        "print(df.isnull().sum())\n",
        "df['SepalLengthCm'].fillna((df['SepalLengthCm'].mean() / df['SepalLengthCm'].median() / df['SepalLengthCm'].mode()), inplace=True) #Imputing Numerical Values\n",
        "\n",
        "# If 'Outlet_Size' exists, this line will work\n",
        "if 'Outlet_Size' in df.columns:\n",
        "    df['Outlet_Size'].fillna('Medium', inplace=True)  #Imputing Categorical Values"
      ],
      "metadata": {
        "colab": {
          "base_uri": "https://localhost:8080/"
        },
        "id": "TFXEkV7GRs_Q",
        "outputId": "07249b91-e1b5-43d6-a9ca-88aa051b3597"
      },
      "execution_count": 3,
      "outputs": [
        {
          "output_type": "stream",
          "name": "stdout",
          "text": [
            "Index(['Id', 'SepalLengthCm', 'SepalWidthCm', 'PetalLengthCm', 'PetalWidthCm',\n",
            "       'Species'],\n",
            "      dtype='object')\n",
            "Id               0\n",
            "SepalLengthCm    0\n",
            "SepalWidthCm     0\n",
            "PetalLengthCm    0\n",
            "PetalWidthCm     0\n",
            "Species          0\n",
            "dtype: int64\n"
          ]
        }
      ]
    },
    {
      "cell_type": "code",
      "source": [
        "#Oversampling and Under Sampling\n",
        "\n",
        "import pandas as pd\n",
        "from collections import Counter\n",
        "from imblearn.over_sampling import RandomOverSampler\n",
        "\n",
        "# Load your DataFrame (replace with your actual file path)\n",
        "df = pd.read_csv(\"/content/Iris.csv\")\n",
        "\n",
        "# Extract the target variable 'Species'\n",
        "Y = df['Species']\n",
        "\n",
        "print\n",
        "\n",
        "\n"
      ],
      "metadata": {
        "colab": {
          "base_uri": "https://localhost:8080/"
        },
        "id": "kdcTbaMf4HJt",
        "outputId": "6251657c-c128-4459-83b5-28c9034feb77"
      },
      "execution_count": 10,
      "outputs": [
        {
          "output_type": "execute_result",
          "data": {
            "text/plain": [
              "<function print>"
            ]
          },
          "metadata": {},
          "execution_count": 10
        }
      ]
    },
    {
      "cell_type": "code",
      "source": [
        "\n",
        "from imblearn.over_sampling import SMOTE                 #Synthetic Minority Oversampling (SMOTE) oversampling\n",
        "sms=SMOTE(random_state=0)\n",
        "\n",
        "# Define X - Assuming 'Species' is the target variable\n",
        "X = df.drop('Species', axis=1)\n",
        "\n",
        "X, Y=sms.fit_resample(X,Y)\n",
        "\n",
        "from imblearn.under_sampling import RandomUnderSampler   #Random UnderSampling\n",
        "rus=RandomUnderSampler(random_state=0)\n",
        "X, Y=rus.fit_resample(X,Y)\n",
        "\n"
      ],
      "metadata": {
        "id": "fJhCnSEr6bu1"
      },
      "execution_count": 11,
      "outputs": []
    },
    {
      "cell_type": "code",
      "source": [
        "\n",
        "#Identifying Outliers by ploting\n",
        "\n",
        "from matplotlib import pyplot as plt\n",
        "import seaborn as sns\n",
        "sns.boxplot(df['SepalLengthCm'])\n",
        "plt.show()\n"
      ],
      "metadata": {
        "colab": {
          "base_uri": "https://localhost:8080/",
          "height": 411
        },
        "id": "kZ-Sawks7t0t",
        "outputId": "002a9b64-2469-4714-e13e-96a9ff373e34"
      },
      "execution_count": 12,
      "outputs": [
        {
          "output_type": "display_data",
          "data": {
            "text/plain": [
              "<Figure size 640x480 with 1 Axes>"
            ],
            "image/png": "[encoded data removed]"
          },
          "metadata": {}
        }
      ]
    },
    {
      "cell_type": "code",
      "source": [
        "#Dealing with Outliers using Interquantile Range\n",
        "\n",
        "print(df['SepalLengthCm'])\n",
        "Q1 = df['SepalLengthCm'].quantile(0.25)\n",
        "Q3 = df['SepalLengthCm'].quantile(0.75)\n",
        "\n",
        "IQR = Q3 - Q1\n",
        "print(IQR)\n",
        "\n",
        "upper = Q3 + 1.5*IQR\n",
        "lower = Q1 - 1.5*IQR\n",
        "\n",
        "print(upper)\n",
        "print(lower)\n",
        "\n",
        "out1=df[df['SepalLengthCm'] < lower].values\n",
        "out2=df[df['SepalLengthCm'] > upper].values\n",
        "\n",
        "df['SepalLengthCm'].replace(out1,lower,inplace=True)\n",
        "df['SepalLengthCm'].replace(out2,upper,inplace=True)\n",
        "\n",
        "print(df['SepalLengthCm'])\n"
      ],
      "metadata": {
        "colab": {
          "base_uri": "https://localhost:8080/"
        },
        "id": "IRR7zO5t7yq8",
        "outputId": "7295863b-1f80-4b98-89e0-a6dd3ff44a45"
      },
      "execution_count": 13,
      "outputs": [
        {
          "output_type": "stream",
          "name": "stdout",
          "text": [
            "0      5.1\n",
            "1      4.9\n",
            "2      4.7\n",
            "3      4.6\n",
            "4      5.0\n",
            "      ... \n",
            "145    6.7\n",
            "146    6.3\n",
            "147    6.5\n",
            "148    6.2\n",
            "149    5.9\n",
            "Name: SepalLengthCm, Length: 150, dtype: float64\n",
            "1.3000000000000007\n",
            "8.350000000000001\n",
            "3.1499999999999986\n",
            "0      5.1\n",
            "1      4.9\n",
            "2      4.7\n",
            "3      4.6\n",
            "4      5.0\n",
            "      ... \n",
            "145    6.7\n",
            "146    6.3\n",
            "147    6.5\n",
            "148    6.2\n",
            "149    5.9\n",
            "Name: SepalLengthCm, Length: 150, dtype: float64\n"
          ]
        }
      ]
    },
    {
      "cell_type": "code",
      "source": [
        "#Principal Component Analysis\n",
        "\n",
        "from sklearn.decomposition import PCA\n",
        "from sklearn.linear_model import LogisticRegression\n",
        "from sklearn.model_selection import train_test_split\n",
        "from sklearn.metrics import accuracy_score\n",
        "\n",
        "logr=LogisticRegression()\n",
        "pca=PCA(n_components=2)\n",
        "\n",
        "X = df.drop('Id', axis=1)\n",
        "X = X.drop('Species', axis=1)\n",
        "Y = df['Species']\n",
        "\n",
        "pca.fit(X)\n",
        "X=pca.transform(X)\n",
        "\n",
        "print(X)\n",
        "\n",
        "X_train, X_test, y_train, y_test = train_test_split(X,Y,random_state=0,test_size=0.3)\n",
        "\n",
        "logr.fit(X_train,y_train)\n",
        "\n",
        "y_pred=logr.predict(X_test)\n",
        "print(accuracy_score(y_test,y_pred))"
      ],
      "metadata": {
        "colab": {
          "base_uri": "https://localhost:8080/"
        },
        "id": "NvT96eH28e27",
        "outputId": "ea3d8ed0-4012-49c1-bdf3-464a89cade27"
      },
      "execution_count": 14,
      "outputs": [
        {
          "output_type": "stream",
          "name": "stdout",
          "text": [
            "[[-2.68420713  0.32660731]\n",
            " [-2.71539062 -0.16955685]\n",
            " [-2.88981954 -0.13734561]\n",
            " [-2.7464372  -0.31112432]\n",
            " [-2.72859298  0.33392456]\n",
            " [-2.27989736  0.74778271]\n",
            " [-2.82089068 -0.08210451]\n",
            " [-2.62648199  0.17040535]\n",
            " [-2.88795857 -0.57079803]\n",
            " [-2.67384469 -0.1066917 ]\n",
            " [-2.50652679  0.65193501]\n",
            " [-2.61314272  0.02152063]\n",
            " [-2.78743398 -0.22774019]\n",
            " [-3.22520045 -0.50327991]\n",
            " [-2.64354322  1.1861949 ]\n",
            " [-2.38386932  1.34475434]\n",
            " [-2.6225262   0.81808967]\n",
            " [-2.64832273  0.31913667]\n",
            " [-2.19907796  0.87924409]\n",
            " [-2.58734619  0.52047364]\n",
            " [-2.3105317   0.39786782]\n",
            " [-2.54323491  0.44003175]\n",
            " [-3.21585769  0.14161557]\n",
            " [-2.30312854  0.10552268]\n",
            " [-2.35617109 -0.03120959]\n",
            " [-2.50791723 -0.13905634]\n",
            " [-2.469056    0.13788731]\n",
            " [-2.56239095  0.37468456]\n",
            " [-2.63982127  0.31929007]\n",
            " [-2.63284791 -0.19007583]\n",
            " [-2.58846205 -0.19739308]\n",
            " [-2.41007734  0.41808001]\n",
            " [-2.64763667  0.81998263]\n",
            " [-2.59715948  1.10002193]\n",
            " [-2.67384469 -0.1066917 ]\n",
            " [-2.86699985  0.0771931 ]\n",
            " [-2.62522846  0.60680001]\n",
            " [-2.67384469 -0.1066917 ]\n",
            " [-2.98184266 -0.48025005]\n",
            " [-2.59032303  0.23605934]\n",
            " [-2.77013891  0.27105942]\n",
            " [-2.85221108 -0.93286537]\n",
            " [-2.99829644 -0.33430757]\n",
            " [-2.4055141   0.19591726]\n",
            " [-2.20883295  0.44269603]\n",
            " [-2.71566519 -0.24268148]\n",
            " [-2.53757337  0.51036755]\n",
            " [-2.8403213  -0.22057634]\n",
            " [-2.54268576  0.58628103]\n",
            " [-2.70391231  0.11501085]\n",
            " [ 1.28479459  0.68543919]\n",
            " [ 0.93241075  0.31919809]\n",
            " [ 1.46406132  0.50418983]\n",
            " [ 0.18096721 -0.82560394]\n",
            " [ 1.08713449  0.07539039]\n",
            " [ 0.64043675 -0.41732348]\n",
            " [ 1.09522371  0.28389121]\n",
            " [-0.75146714 -1.00110751]\n",
            " [ 1.04329778  0.22895691]\n",
            " [-0.01019007 -0.72057487]\n",
            " [-0.5110862  -1.26249195]\n",
            " [ 0.51109806 -0.10228411]\n",
            " [ 0.26233576 -0.5478933 ]\n",
            " [ 0.98404455 -0.12436042]\n",
            " [-0.174864   -0.25181557]\n",
            " [ 0.92757294  0.46823621]\n",
            " [ 0.65959279 -0.35197629]\n",
            " [ 0.23454059 -0.33192183]\n",
            " [ 0.94236171 -0.54182226]\n",
            " [ 0.0432464  -0.58148945]\n",
            " [ 1.11624072 -0.08421401]\n",
            " [ 0.35678657 -0.06682383]\n",
            " [ 1.29646885 -0.32756152]\n",
            " [ 0.92050265 -0.18239036]\n",
            " [ 0.71400821  0.15037915]\n",
            " [ 0.89964086  0.32961098]\n",
            " [ 1.33104142  0.24466952]\n",
            " [ 1.55739627  0.26739258]\n",
            " [ 0.81245555 -0.16233157]\n",
            " [-0.30733476 -0.36508661]\n",
            " [-0.07034289 -0.70253793]\n",
            " [-0.19188449 -0.67749054]\n",
            " [ 0.13499495 -0.31170964]\n",
            " [ 1.37873698 -0.42120514]\n",
            " [ 0.58727485 -0.48328427]\n",
            " [ 0.8072055   0.19505396]\n",
            " [ 1.22042897  0.40803534]\n",
            " [ 0.81286779 -0.370679  ]\n",
            " [ 0.24519516 -0.26672804]\n",
            " [ 0.16451343 -0.67966147]\n",
            " [ 0.46303099 -0.66952655]\n",
            " [ 0.89016045 -0.03381244]\n",
            " [ 0.22887905 -0.40225762]\n",
            " [-0.70708128 -1.00842476]\n",
            " [ 0.35553304 -0.50321849]\n",
            " [ 0.33112695 -0.21118014]\n",
            " [ 0.37523823 -0.29162202]\n",
            " [ 0.64169028  0.01907118]\n",
            " [-0.90846333 -0.75156873]\n",
            " [ 0.29780791 -0.34701652]\n",
            " [ 2.53172698 -0.01184224]\n",
            " [ 1.41407223 -0.57492506]\n",
            " [ 2.61648461  0.34193529]\n",
            " [ 1.97081495 -0.18112569]\n",
            " [ 2.34975798 -0.04188255]\n",
            " [ 3.39687992  0.54716805]\n",
            " [ 0.51938325 -1.19135169]\n",
            " [ 2.9320051   0.35237701]\n",
            " [ 2.31967279 -0.24554817]\n",
            " [ 2.91813423  0.78038063]\n",
            " [ 1.66193495  0.2420384 ]\n",
            " [ 1.80234045 -0.21615461]\n",
            " [ 2.16537886  0.21528028]\n",
            " [ 1.34459422 -0.77641543]\n",
            " [ 1.5852673  -0.53930705]\n",
            " [ 1.90474358  0.11881899]\n",
            " [ 1.94924878  0.04073026]\n",
            " [ 3.48876538  1.17154454]\n",
            " [ 3.79468686  0.25326557]\n",
            " [ 1.29832982 -0.76101394]\n",
            " [ 2.42816726  0.37678197]\n",
            " [ 1.19809737 -0.60557896]\n",
            " [ 3.49926548  0.45677347]\n",
            " [ 1.38766825 -0.20403099]\n",
            " [ 2.27585365  0.33338653]\n",
            " [ 2.61419383  0.55836695]\n",
            " [ 1.25762518 -0.179137  ]\n",
            " [ 1.29066965 -0.11642525]\n",
            " [ 2.12285398 -0.21085488]\n",
            " [ 2.3875644   0.46251925]\n",
            " [ 2.84096093  0.37274259]\n",
            " [ 3.2323429   1.37052404]\n",
            " [ 2.15873837 -0.21832553]\n",
            " [ 1.4431026  -0.14380129]\n",
            " [ 1.77964011 -0.50146479]\n",
            " [ 3.07652162  0.68576444]\n",
            " [ 2.14498686  0.13890661]\n",
            " [ 1.90486293  0.04804751]\n",
            " [ 1.16885347 -0.1645025 ]\n",
            " [ 2.10765373  0.37148225]\n",
            " [ 2.31430339  0.18260885]\n",
            " [ 1.92245088  0.40927118]\n",
            " [ 1.41407223 -0.57492506]\n",
            " [ 2.56332271  0.2759745 ]\n",
            " [ 2.41939122  0.30350394]\n",
            " [ 1.94401705  0.18741522]\n",
            " [ 1.52566363 -0.37502085]\n",
            " [ 1.76404594  0.07851919]\n",
            " [ 1.90162908  0.11587675]\n",
            " [ 1.38966613 -0.28288671]]\n",
            "0.9777777777777777\n"
          ]
        }
      ]
    }
  ]
}